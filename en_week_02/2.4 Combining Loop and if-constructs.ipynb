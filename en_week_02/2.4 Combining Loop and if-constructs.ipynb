{
 "cells": [
  {
   "cell_type": "markdown",
   "metadata": {},
   "source": [
    "COMP.CS.100 Programming 1\n",
    "<br>\n",
    "developer: Jarmo Tahvanainen\n",
    "<br>\n",
    "email: jarmo.tahvanainen@gmail.com\n",
    "<br>\n",
    "student id: 151737413"
   ]
  },
  {
   "cell_type": "markdown",
   "metadata": {},
   "source": [
    "## Combining Loop and if-constructs"
   ]
  },
  {
   "cell_type": "markdown",
   "metadata": {},
   "source": [
    "Programming in high-level language is basically a creative process, where the control structures are combined to solve problems. The structures can be located one after another or within each other. Successive structures may be independent from each other, while nested structures usually co-operate closely. Nested structures have been discussed earlier in connection with the nested selection structures and the flag variables, whose values were flipped using a if statement inside a while statement.\n",
    "\n",
    "Selection nested in a loop is a typical combination of different control structures. The reverse order is also possible: Selection can enclose a loop. Different structures are often more than two-layers deep. Also multilayered structures are connected to each other with indents.\n",
    "\n",
    "The entire program, or most of it, may be inside so called main loop that is usually controlled by a flag variable. The main loop often contains a selection structure that directs the program execution to different paths according to user’s inputs. The main loop prevents the program from ending after a selected execution path has been travelled by returning the execution back to the selection. The selection may have an option to stop the loop or there may be a separate selection structure for the decicion to continue or stop the program.\n",
    "\n",
    "The unit conversion program shown below has a main loop. The user enters the conversion direction and the if-elif-else selects and performs the corresponding conversion unless the choice is invalid."
   ]
  },
  {
   "cell_type": "code",
   "execution_count": 2,
   "metadata": {},
   "outputs": [
    {
     "name": "stdout",
     "output_type": "stream",
     "text": [
      "m) Yards to meters.\n",
      "y) Meters to yards.\n",
      "q) Quit the program.\n",
      "9.144 metres.\n",
      "m) Yards to meters.\n",
      "y) Meters to yards.\n",
      "q) Quit the program.\n"
     ]
    }
   ],
   "source": [
    "\"\"\"\n",
    "\n",
    "Converts yards to metres an vice versa util the user ends the program.\n",
    "\n",
    "\"\"\"\n",
    "\n",
    "\n",
    "def main():\n",
    "\n",
    "    # Commands known to the program as constants.\n",
    "    TO_METRES = \"m\"\n",
    "    TO_YARDS = \"y\"\n",
    "    QUIT = \"q\"\n",
    "    # The factor for conversion from yards to metres as a constant.\n",
    "    FACTOR = 0.9144\n",
    "\n",
    "    # The flag variable for the main loop.\n",
    "    do_the_main_loop = True\n",
    "\n",
    "    # Convert values until the user ends the program.\n",
    "    while do_the_main_loop:\n",
    "        # Read a command.\n",
    "        print(TO_METRES + \") Yards to meters.\")\n",
    "        print(TO_YARDS + \") Meters to yards.\")\n",
    "        print(QUIT + \") Quit the program.\")\n",
    "        choice = input(\"Please, enter your choice: \")\n",
    "\n",
    "        # Yards to metres.\n",
    "        if choice == TO_METRES:\n",
    "            yards_as_string = input(\"Please, enter the yards: \")\n",
    "            yards = float(yards_as_string)\n",
    "            metres = FACTOR * yards\n",
    "            print(metres, \"metres.\")\n",
    "        # Metres to yards.\n",
    "        elif choice == TO_YARDS:\n",
    "            metres_as_string = input(\"Please, enter the metres: \")\n",
    "            metres = float(metres_as_string)\n",
    "            yards = 1 / FACTOR * metres\n",
    "            print(yards, \"yards.\")\n",
    "        # End the main loop and the program.\n",
    "        elif choice == QUIT:\n",
    "            # Flip the flag value.\n",
    "            do_the_main_loop = False\n",
    "        # Invalid command.\n",
    "        else:\n",
    "            print(\"Invalid command!\")\n",
    "\n",
    "if __name__ == \"__main__\":\n",
    "\n",
    "    main()"
   ]
  },
  {
   "cell_type": "markdown",
   "metadata": {},
   "source": [
    "Let us convert 100 yards to meters and 2.5 meters to yards. A command menu is shown to the user at the beginning of the program and after each conversion. The program responds to the unknown e command with an error message. The q command stops and main loop and the program."
   ]
  },
  {
   "cell_type": "markdown",
   "metadata": {},
   "source": [
    "m) Yards to meters.\n",
    "<br>\n",
    "y) Meters to yards.\n",
    "<br>\n",
    "q) Quit the program.\n",
    "<br>\n",
    "Please, enter your choice: m\n",
    "<br>\n",
    "Please, enter the yards: 100\n",
    "<br>\n",
    "91.44 metres.\n",
    "<br>\n",
    "m) Yards to meters.\n",
    "<br>\n",
    "y) Meters to yards.\n",
    "<br>\n",
    "q) Quit the program.\n",
    "<br>\n",
    "Please, enter your choice: y\n",
    "<br>\n",
    "Please, enter the metres: 2.5\n",
    "<br>\n",
    "2.7340332458442695 yards.\n",
    "<br>\n",
    "m) Yards to meters.\n",
    "<br>\n",
    "y) Meters to yards.\n",
    "<br>\n",
    "q) Quit the program.\n",
    "<br>\n",
    "Please, enter your choice: e\n",
    "<br>\n",
    "Invalid command!\n",
    "<br>\n",
    "m) Yards to meters.\n",
    "<br>\n",
    "y) Meters to yards.\n",
    "<br>\n",
    "q) Quit the program.\n",
    "<br>\n",
    "Please, enter your choice: q\n"
   ]
  },
  {
   "cell_type": "markdown",
   "metadata": {},
   "source": []
  }
 ],
 "metadata": {
  "kernelspec": {
   "display_name": "Python 3",
   "language": "python",
   "name": "python3"
  },
  "language_info": {
   "codemirror_mode": {
    "name": "ipython",
    "version": 3
   },
   "file_extension": ".py",
   "mimetype": "text/x-python",
   "name": "python",
   "nbconvert_exporter": "python",
   "pygments_lexer": "ipython3",
   "version": "3.11.10"
  }
 },
 "nbformat": 4,
 "nbformat_minor": 2
}
