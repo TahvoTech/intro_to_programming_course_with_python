{
 "cells": [
  {
   "cell_type": "markdown",
   "metadata": {},
   "source": [
    "COMP.CS.100 Programming 1\n",
    "<br>\n",
    "developer: Jarmo Tahvanainen\n",
    "<br>\n",
    "email: jarmo.tahvanainen@gmail.com\n",
    "<br>\n",
    "student id: 151737413"
   ]
  },
  {
   "cell_type": "markdown",
   "metadata": {},
   "source": [
    "## Number series game Zip Boing"
   ]
  },
  {
   "cell_type": "markdown",
   "metadata": {},
   "source": [
    "Learning Goals:\n",
    "\n",
    "- Learning to combine control and repetition structures."
   ]
  },
  {
   "cell_type": "markdown",
   "metadata": {},
   "source": [
    "In the game Zip Boing players sit in a ring and call numbers in turns. The first player says 1, the next one 2 and so forth. The game is called Zip Boing because every time the next number is divisible by 3 the player has to say \"zip\" and every time the number is divisible by 7 the player has to say \"boing\". Also, if the umber is divisible by both the numbers, the player should say \"zip boing\".\n",
    "\n",
    "Implement a program that makes a cheat sheet for as many numbers as the player wants. The program should first ask how many numbers the cheat sheet should include and then print them in correct order (with all the zips, boings and zip boings).\n",
    "\n",
    "Example:\n",
    "\n",
    "How many numbers would you like to have? 10\\\n",
    "1\\\n",
    "2\\\n",
    "zip\\\n",
    "4\\\n",
    "5\\\n",
    "zip\\\n",
    "boing\\\n",
    "8\\\n",
    "zip\\\n",
    "10\n",
    "\n",
    "Advice:\n",
    "\n",
    "- You need a repetition structure that goes from 1 to the given maximum value. You also need a control structure that prints out either zip, boing, zip boing or the number itself.\n",
    "\n",
    "- Think about the order of the structures: which is the correct order for the control structure, i.e., what should happen first etc.\n",
    "\n",
    "- The divisibility of a number may be tested with the divisibility operator % which has been tried out during the previous round (giving change) and in the lecture.\n"
   ]
  },
  {
   "cell_type": "code",
   "execution_count": 2,
   "metadata": {},
   "outputs": [
    {
     "name": "stdout",
     "output_type": "stream",
     "text": [
      "1\n",
      "2\n",
      "zip\n",
      "4\n",
      "boing\n",
      "zip\n",
      "7\n"
     ]
    }
   ],
   "source": [
    "\"\"\"\n",
    "This module contains a number series game called \"Zip Boing\".\n",
    "The game involves players taking turns to count up from 1, but replacing certain numbers with the words \"Zip\" or \"Boing\" based on specific rules.\n",
    "Rules:\n",
    "- Replace any number divisible by 3 with \"zip\".\n",
    "- Replace any number divisible by 5 with \"boing\".\n",
    "- Replace any number divisible by both 3 and 5 with \"zip boing\".\n",
    "The game continues until a predetermined number is reached.\n",
    "Functions:\n",
    "- (List any functions here if applicable)\n",
    "Example:\n",
    "1, 2, zip, 4, boing, zip, 7, 8, zip, boing, 11, zip, 13, 14, zip boing, ...\n",
    "\n",
    "\n",
    "\"\"\"\n",
    "\n",
    "def main():\n",
    "\n",
    "    # Get the user input\n",
    "    try:\n",
    "        max_number = int(input(\"Enter the maximum number: \"))\n",
    "    except ValueError:\n",
    "        print(\"Please enter a valid number.\")\n",
    "        return\n",
    "    \n",
    "    # Loop through the numbers\n",
    "\n",
    "    for i in range(1, max_number + 1):\n",
    "        if i % 3 == 0 and i % 5 == 0:\n",
    "            print(\"zip boing\")\n",
    "        elif i % 3 == 0:\n",
    "            print(\"zip\")\n",
    "        elif i % 5 == 0:\n",
    "            print(\"boing\")\n",
    "        else:\n",
    "            print(i)\n",
    "\n",
    "if __name__ == \"__main__\":\n",
    "    main()\n",
    "\n",
    "\n"
   ]
  }
 ],
 "metadata": {
  "kernelspec": {
   "display_name": "Python 3",
   "language": "python",
   "name": "python3"
  },
  "language_info": {
   "codemirror_mode": {
    "name": "ipython",
    "version": 3
   },
   "file_extension": ".py",
   "mimetype": "text/x-python",
   "name": "python",
   "nbconvert_exporter": "python",
   "pygments_lexer": "ipython3",
   "version": "3.11.10"
  }
 },
 "nbformat": 4,
 "nbformat_minor": 2
}
